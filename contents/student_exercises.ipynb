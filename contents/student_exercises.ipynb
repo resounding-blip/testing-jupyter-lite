{
 "cells": [
  {
   "cell_type": "markdown",
   "metadata": {},
   "source": [
    "# Beginner Python Exercises\n",
    "\n",
    "Welcome! This notebook contains a few simple exercises to get you started with Python.\n",
    "\n",
    "**Instructions:**\n",
    "1. Read the question in the markdown cell.\n",
    "2. Write your code in the code cell below the question.\n",
    "3. Run your code cell.\n",
    "4. Run the special `checker` cell immediately after to see if your answer is correct."
   ]
  },
  {
   "cell_type": "code",
   "execution_count": 1,
   "metadata": {},
   "outputs": [
    {
     "name": "stdout",
     "output_type": "stream",
     "text": [
      "✅ Checker ready! You can start the exercises.\n"
     ]
    }
   ],
   "source": [
    "# ==> RUN THIS CELL FIRST <==\n",
    "# This cell imports the checker that provides instant feedback.\n",
    "\n",
    "try:\n",
    "    from checker import checker\n",
    "    print(\"✅ Checker ready! You can start the exercises.\")\n",
    "except ImportError:\n",
    "    print(\"❌ Could not find the checker.py file. Make sure it is in the same folder as this notebook.\")"
   ]
  },
  {
   "cell_type": "markdown",
   "metadata": {},
   "source": [
    "--- \n",
    "### Question 1: Creating a Variable\n",
    "\n",
    "Create a variable named `first_name` and assign it the string value `'Ada'`."
   ]
  },
  {
   "cell_type": "code",
   "execution_count": 2,
   "metadata": {},
   "outputs": [],
   "source": [
    "# Write your code for Question 1 here\n",
    "first_name = \"Ada\""
   ]
  },
  {
   "cell_type": "code",
   "execution_count": 3,
   "metadata": {},
   "outputs": [
    {
     "data": {
      "text/markdown": [
       "✅ **Correct!** Great job creating the variable."
      ],
      "text/plain": [
       "<IPython.core.display.Markdown object>"
      ]
     },
     "metadata": {},
     "output_type": "display_data"
    }
   ],
   "source": [
    "# Run this cell to check your answer for Question 1\n",
    "checker.check_q1(locals())"
   ]
  },
  {
   "cell_type": "markdown",
   "metadata": {},
   "source": [
    "---\n",
    "### Question 2: Working with Lists\n",
    "\n",
    "A list of prime numbers has been started for you. **Append** the next prime number, `11`, to the end of the list."
   ]
  },
  {
   "cell_type": "code",
   "execution_count": null,
   "metadata": {},
   "outputs": [],
   "source": [
    "# Write your code for Question 2 here\n",
    "primes = [2, 3, 5, 7]\n"
   ]
  },
  {
   "cell_type": "code",
   "execution_count": null,
   "metadata": {},
   "outputs": [],
   "source": [
    "# Run this cell to check your answer for Question 2\n",
    "checker.check_q2(locals())"
   ]
  },
  {
   "cell_type": "markdown",
   "metadata": {},
   "source": [
    "---\n",
    "### Question 3: Using Dictionaries\n",
    "\n",
    "Below is a dictionary containing user data. Create a new variable called `city` and assign it the value associated with the `'city'` key from the `user_info` dictionary."
   ]
  },
  {
   "cell_type": "code",
   "execution_count": null,
   "metadata": {},
   "outputs": [],
   "source": [
    "# Write your code for Question 3 here\n",
    "user_info = {\n",
    "    'username': 'ada_l',\n",
    "    'year': 1815,\n",
    "    'city': 'Berlin'\n",
    "}\n"
   ]
  },
  {
   "cell_type": "code",
   "execution_count": null,
   "metadata": {},
   "outputs": [],
   "source": [
    "# Run this cell to check your answer for Question 3\n",
    "checker.check_q3(locals())"
   ]
  }
 ],
 "metadata": {
  "kernelspec": {
   "display_name": "docker_test_env",
   "language": "python",
   "name": "python3"
  },
  "language_info": {
   "codemirror_mode": {
    "name": "ipython",
    "version": 3
   },
   "file_extension": ".py",
   "mimetype": "text/x-python",
   "name": "python",
   "nbconvert_exporter": "python",
   "pygments_lexer": "ipython3",
   "version": "3.11.13"
  }
 },
 "nbformat": 4,
 "nbformat_minor": 4
}
